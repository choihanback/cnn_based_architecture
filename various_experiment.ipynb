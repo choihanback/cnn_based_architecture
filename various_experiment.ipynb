{
  "nbformat": 4,
  "nbformat_minor": 0,
  "metadata": {
    "colab": {
      "provenance": [],
      "machine_shape": "hm",
      "gpuType": "A100",
      "authorship_tag": "ABX9TyNngkZ423LzRaFDDJLVh/z0"
    },
    "kernelspec": {
      "name": "python3",
      "display_name": "Python 3"
    },
    "language_info": {
      "name": "python"
    },
    "accelerator": "GPU"
  },
  "cells": [
    {
      "cell_type": "markdown",
      "source": [
        "모듈 임포트 및 실험 변수 설정"
      ],
      "metadata": {
        "id": "tbZwPn92CZsT"
      }
    },
    {
      "cell_type": "code",
      "source": [
        "from google.colab import drive\n",
        "drive.mount('/content/drive')\n",
        "import sys\n",
        "sys.path.append('/content/drive/MyDrive/Colab Notebooks')\n",
        "import torch\n",
        "from torch import nn, optim\n",
        "import torch.nn.functional as F\n",
        "from torchvision import datasets,transforms\n",
        "import numpy as np\n",
        "import matplotlib.pyplot as plt\n",
        "DEVICE = \"cuda\" if torch.cuda.is_available() else \"cpu\"\n",
        "print(DEVICE)"
      ],
      "metadata": {
        "colab": {
          "base_uri": "https://localhost:8080/"
        },
        "id": "SRzVXeluCYFf",
        "outputId": "493b59e9-ad1e-40a8-ccca-fdecfb649994"
      },
      "execution_count": 1,
      "outputs": [
        {
          "output_type": "stream",
          "name": "stdout",
          "text": [
            "Mounted at /content/drive\n",
            "cuda\n"
          ]
        }
      ]
    },
    {
      "cell_type": "code",
      "source": [
        "import random\n",
        "random_seed = 0\n",
        "random.seed(random_seed)\n",
        "torch.manual_seed(random_seed)\n",
        "torch.cuda.manual_seed(random_seed)\n",
        "torch.cuda.manual_seed_all(random_seed)\n",
        "torch.backends.cudnn.deterministic = True\n",
        "torch.backends.cudnn.benchmark = False\n",
        "np.random.seed(random_seed)"
      ],
      "metadata": {
        "id": "m5mN6iBuCnc_"
      },
      "execution_count": 2,
      "outputs": []
    },
    {
      "cell_type": "code",
      "source": [
        "BATCH_SIZE = 32\n",
        "LR = 1e-3\n",
        "EPOCH = 50\n",
        "criterion = nn.CrossEntropyLoss()"
      ],
      "metadata": {
        "id": "6LCpsADtGOMY"
      },
      "execution_count": 3,
      "outputs": []
    },
    {
      "cell_type": "markdown",
      "source": [
        "데이터셋 준비"
      ],
      "metadata": {
        "id": "lYN_mM1yGDCX"
      }
    },
    {
      "cell_type": "code",
      "source": [
        "TARGET_IMG_SIZE = 224\n",
        "CIFAR10_TRAIN_MEAN = (0.4914, 0.4822, 0.4465) # 원본 CIFAR-10 통계치\n",
        "CIFAR10_TRAIN_STD = (0.2470, 0.2435, 0.2616) # 원본 CIFAR-10 통계치\n",
        "\n",
        "# 기본 transform (업샘플링 + Tensor 변환 + 정규화)\n",
        "transform_upsampled = transforms.Compose([\n",
        "    transforms.Resize((TARGET_IMG_SIZE, TARGET_IMG_SIZE), interpolation=transforms.InterpolationMode.BILINEAR),\n",
        "    transforms.ToTensor(),\n",
        "    transforms.Normalize(CIFAR10_TRAIN_MEAN, CIFAR10_TRAIN_STD)\n",
        "])\n",
        "\n",
        "# 기본 학습 데이터셋 (Augmentation 없음)\n",
        "train_DS = datasets.CIFAR10(\n",
        "    root = '/content/drive/MyDrive/Colab Notebooks/data',\n",
        "    train=True,\n",
        "    download=True,\n",
        "    transform=transform_upsampled\n",
        ")\n",
        "\n",
        "# 기본 테스트 데이터셋 (Augmentation 없음)\n",
        "test_DS = datasets.CIFAR10(\n",
        "    root = '/content/drive/MyDrive/Colab Notebooks/data',\n",
        "    train=False,\n",
        "    download=True,\n",
        "    transform=transform_upsampled\n",
        ")"
      ],
      "metadata": {
        "id": "LSDPBPFmFLpG"
      },
      "execution_count": 4,
      "outputs": []
    },
    {
      "cell_type": "code",
      "source": [
        "g = torch.Generator()\n",
        "g.manual_seed(random_seed)\n",
        "\n",
        "def seed_worker(worker_id):\n",
        "    worker_seed = torch.initial_seed() % 2**32\n",
        "    np.random.seed(worker_seed)\n",
        "    random.seed(worker_seed)\n",
        "\n",
        "# 기본 학습 데이터로더 (Augmentation 미적용)\n",
        "train_DL = torch.utils.data.DataLoader(\n",
        "    train_DS,\n",
        "    batch_size=BATCH_SIZE,\n",
        "    shuffle=True,\n",
        "    num_workers=2,\n",
        "    generator=g,\n",
        "    worker_init_fn=seed_worker,\n",
        "    pin_memory=True\n",
        ")\n",
        "\n",
        "# 기본 테스트 데이터로더 (당연히 Augmentation 미적용)\n",
        "test_DL = torch.utils.data.DataLoader(\n",
        "    test_DS,\n",
        "    batch_size=BATCH_SIZE,\n",
        "    shuffle=False,\n",
        "    num_workers=2,\n",
        "    generator=g,\n",
        "    worker_init_fn=seed_worker,\n",
        "    pin_memory=True\n",
        ")"
      ],
      "metadata": {
        "id": "gQweZaPjS9HI"
      },
      "execution_count": 5,
      "outputs": []
    },
    {
      "cell_type": "code",
      "source": [
        "# Augmentation용 transform (업샘플링 + Augmentation + Tensor 변환 + 정규화)\n",
        "transform_train_augmented_upsampled = transforms.Compose([\n",
        "    transforms.Resize((TARGET_IMG_SIZE, TARGET_IMG_SIZE), interpolation=transforms.InterpolationMode.BILINEAR),\n",
        "    transforms.RandomHorizontalFlip(p=0.5), # 50% 확률로 좌우 반전\n",
        "    transforms.RandomCrop(TARGET_IMG_SIZE, padding=int(TARGET_IMG_SIZE * 0.1), padding_mode='reflect'), # 10% 패딩 후 랜덤 크롭\n",
        "    # 필요시 다른 증강 기법 추가 가능 (예: ColorJitter)\n",
        "    # transforms.ColorJitter(brightness=0.2, contrast=0.2, saturation=0.2, hue=0.1),\n",
        "    transforms.ToTensor(),\n",
        "    transforms.Normalize(CIFAR10_TRAIN_MEAN, CIFAR10_TRAIN_STD)\n",
        "])\n",
        "\n",
        "# Augmentation용 학습 데이터셋 (Augmentation 적용)\n",
        "train_DS_augmented = datasets.CIFAR10(\n",
        "    root = '/content/drive/MyDrive/Colab Notebooks/data', # 데이터 저장 경로\n",
        "    train=True,\n",
        "    download=True,\n",
        "    transform=transform_train_augmented_upsampled # Augmentation용 transform 사용\n",
        ")\n",
        "\n",
        "# Augmentation용 학습 데이터로더 (Augmentation 적용)\n",
        "train_DL_augmented = torch.utils.data.DataLoader(\n",
        "    train_DS_augmented,\n",
        "    batch_size=BATCH_SIZE,\n",
        "    shuffle=True,\n",
        "    num_workers=2,\n",
        "    generator=g,\n",
        "    worker_init_fn=seed_worker,\n",
        "    pin_memory=True\n",
        ")"
      ],
      "metadata": {
        "id": "RDXtH58cXCCM"
      },
      "execution_count": 6,
      "outputs": []
    },
    {
      "cell_type": "code",
      "source": [
        "print(f\"Number of training samples: {len(train_DS)}\")\n",
        "print(f\"Number of test samples: {len(test_DS)}\")\n",
        "print(f\"Shape of one training sample: {train_DS[0][0].shape}\")\n",
        "print(f\"Data type of one training sample: {train_DS[0][0].dtype}\")\n",
        "print(f\"Label of one training sample: {train_DS[0][1]}\")"
      ],
      "metadata": {
        "colab": {
          "base_uri": "https://localhost:8080/"
        },
        "id": "OEKVIdlzKgcr",
        "outputId": "38c38e04-d310-449c-f380-379224deaec8"
      },
      "execution_count": 7,
      "outputs": [
        {
          "output_type": "stream",
          "name": "stdout",
          "text": [
            "Number of training samples: 50000\n",
            "Number of test samples: 10000\n",
            "Shape of one training sample: torch.Size([3, 224, 224])\n",
            "Data type of one training sample: torch.float32\n",
            "Label of one training sample: 6\n"
          ]
        }
      ]
    },
    {
      "cell_type": "markdown",
      "source": [
        "AlexNet"
      ],
      "metadata": {
        "id": "gDUjlByyKixV"
      }
    },
    {
      "cell_type": "code",
      "source": [
        "class AlexNet(nn.Module):\n",
        "    def __init__(self, num_classes=10):\n",
        "        super(AlexNet, self).__init__()\n",
        "        self.features = nn.Sequential(\n",
        "            nn.Conv2d(3, 64, kernel_size=11, stride=4, padding=2),  # 첫번째 Conv\n",
        "            nn.ReLU(inplace=True),\n",
        "            nn.MaxPool2d(kernel_size=3, stride=2),\n",
        "\n",
        "            nn.Conv2d(64, 192, kernel_size=5, padding=2),           # 두번째 Conv\n",
        "            nn.ReLU(inplace=True),\n",
        "            nn.MaxPool2d(kernel_size=3, stride=2),\n",
        "\n",
        "            nn.Conv2d(192, 384, kernel_size=3, padding=1),          # 세번째 Conv\n",
        "            nn.ReLU(inplace=True),\n",
        "\n",
        "            nn.Conv2d(384, 256, kernel_size=3, padding=1),          # 네번째 Conv\n",
        "            nn.ReLU(inplace=True),\n",
        "\n",
        "            nn.Conv2d(256, 256, kernel_size=3, padding=1),          # 다섯번째 Conv\n",
        "            nn.ReLU(inplace=True),\n",
        "            nn.MaxPool2d(kernel_size=3, stride=2),\n",
        "        )\n",
        "        self.avgpool = nn.AdaptiveAvgPool2d((6, 6))                 # Adaptive Pooling\n",
        "        self.classifier = nn.Sequential(\n",
        "            nn.Dropout(p=0.5),\n",
        "            nn.Linear(256 * 6 * 6, 4096),                           # Fully Connected 1\n",
        "            nn.ReLU(inplace=True),\n",
        "            nn.Dropout(p=0.5),\n",
        "            nn.Linear(4096, 4096),                                  # Fully Connected 2\n",
        "            nn.ReLU(inplace=True),\n",
        "            nn.Linear(4096, num_classes),                           # 출력층\n",
        "        )\n",
        "\n",
        "    def forward(self, x):\n",
        "        x = self.features(x)\n",
        "        x = self.avgpool(x)\n",
        "        x = torch.flatten(x, 1)\n",
        "        x = self.classifier(x)\n",
        "        return x"
      ],
      "metadata": {
        "id": "rsmk4m6JKJh7"
      },
      "execution_count": 8,
      "outputs": []
    },
    {
      "cell_type": "markdown",
      "source": [
        "Train & Test Function"
      ],
      "metadata": {
        "id": "wvEG90mPTSa-"
      }
    },
    {
      "cell_type": "code",
      "source": [
        "def Train(model, train_DL, criterion):\n",
        "    optimizer = optim.Adam(model.parameters(), lr=LR)\n",
        "\n",
        "    loss_history=[]\n",
        "    acc_history=[]\n",
        "\n",
        "    NoT = len(train_DL.dataset)\n",
        "\n",
        "    model.train()\n",
        "\n",
        "    for ep in range(EPOCH):\n",
        "        rloss = 0\n",
        "        rcorrect = 0\n",
        "\n",
        "        for x_batch, y_batch in train_DL:\n",
        "            x_batch = x_batch.to(DEVICE)\n",
        "            y_batch = y_batch.to(DEVICE)\n",
        "\n",
        "            y_hat = model(x_batch)\n",
        "            loss = criterion(y_hat, y_batch)\n",
        "\n",
        "            optimizer.zero_grad()\n",
        "            loss.backward()\n",
        "            optimizer.step()\n",
        "\n",
        "            loss_b = loss.item() * x_batch.shape[0]\n",
        "            rloss += loss_b\n",
        "            pred = y_hat.argmax(dim=1)\n",
        "            corrects_b = torch.sum(pred == y_batch).item()\n",
        "            rcorrect += corrects_b\n",
        "\n",
        "        loss_e = rloss/NoT\n",
        "        accuracy_e = rcorrect/NoT * 100\n",
        "        loss_history += [loss_e]\n",
        "        acc_history += [accuracy_e]\n",
        "        print(f\"Epoch: {ep+1}, train loss: {round(loss_e,3)}, train accuracy: {round(accuracy_e,1)} %\")\n",
        "        print(\"-\"*20)\n",
        "\n",
        "    return loss_history, acc_history"
      ],
      "metadata": {
        "id": "AS4AT2LoTRdg"
      },
      "execution_count": 9,
      "outputs": []
    },
    {
      "cell_type": "code",
      "source": [
        "def Test(model,test_DL):\n",
        "    model.eval()\n",
        "    with torch.no_grad():\n",
        "        rcorrect = 0\n",
        "        for x_batch, y_batch in test_DL:\n",
        "            x_batch = x_batch.to(DEVICE)\n",
        "            y_batch = y_batch.to(DEVICE)\n",
        "            y_hat = model(x_batch)\n",
        "            pred = y_hat.argmax(dim=1)\n",
        "            corrects_b = torch.sum(pred == y_batch).item()\n",
        "            rcorrect += corrects_b\n",
        "        accuracy_e = rcorrect/len(test_DL.dataset)*100\n",
        "    print(f\"Test accuracy: {rcorrect}/{len(test_DL.dataset)} ({round(accuracy_e,1)} %)\")\n",
        "    return round(accuracy_e,1)"
      ],
      "metadata": {
        "id": "YOh5aMhQWqI1"
      },
      "execution_count": 10,
      "outputs": []
    },
    {
      "cell_type": "markdown",
      "source": [
        "**실험 1**: Data Augmentation 성능 확인 (in AlexNet)"
      ],
      "metadata": {
        "id": "WSDbr0RUYmSJ"
      }
    },
    {
      "cell_type": "code",
      "source": [
        "model_no_aug=AlexNet().to(DEVICE)\n",
        "print(model_no_aug)\n",
        "x_batch, _ = next(iter(train_DL))\n",
        "print(model_no_aug(x_batch.to(DEVICE)).shape)\n",
        "\n",
        "print(\"=\"*30)\n",
        "print(\" Data Augmentation 적용하지 않은 상태로 AlexNet 학습\")\n",
        "print(\"=\"*30)\n",
        "\n",
        "loss_history_no_aug, acc_history_no_aug = Train(model_no_aug, train_DL, criterion)"
      ],
      "metadata": {
        "colab": {
          "base_uri": "https://localhost:8080/"
        },
        "id": "crmvgOlyYt4I",
        "outputId": "9a2c9ffd-9c9c-4b46-de63-1bcc88331ab4"
      },
      "execution_count": 11,
      "outputs": [
        {
          "output_type": "stream",
          "name": "stdout",
          "text": [
            "AlexNet(\n",
            "  (features): Sequential(\n",
            "    (0): Conv2d(3, 64, kernel_size=(11, 11), stride=(4, 4), padding=(2, 2))\n",
            "    (1): ReLU(inplace=True)\n",
            "    (2): MaxPool2d(kernel_size=3, stride=2, padding=0, dilation=1, ceil_mode=False)\n",
            "    (3): Conv2d(64, 192, kernel_size=(5, 5), stride=(1, 1), padding=(2, 2))\n",
            "    (4): ReLU(inplace=True)\n",
            "    (5): MaxPool2d(kernel_size=3, stride=2, padding=0, dilation=1, ceil_mode=False)\n",
            "    (6): Conv2d(192, 384, kernel_size=(3, 3), stride=(1, 1), padding=(1, 1))\n",
            "    (7): ReLU(inplace=True)\n",
            "    (8): Conv2d(384, 256, kernel_size=(3, 3), stride=(1, 1), padding=(1, 1))\n",
            "    (9): ReLU(inplace=True)\n",
            "    (10): Conv2d(256, 256, kernel_size=(3, 3), stride=(1, 1), padding=(1, 1))\n",
            "    (11): ReLU(inplace=True)\n",
            "    (12): MaxPool2d(kernel_size=3, stride=2, padding=0, dilation=1, ceil_mode=False)\n",
            "  )\n",
            "  (avgpool): AdaptiveAvgPool2d(output_size=(6, 6))\n",
            "  (classifier): Sequential(\n",
            "    (0): Dropout(p=0.5, inplace=False)\n",
            "    (1): Linear(in_features=9216, out_features=4096, bias=True)\n",
            "    (2): ReLU(inplace=True)\n",
            "    (3): Dropout(p=0.5, inplace=False)\n",
            "    (4): Linear(in_features=4096, out_features=4096, bias=True)\n",
            "    (5): ReLU(inplace=True)\n",
            "    (6): Linear(in_features=4096, out_features=10, bias=True)\n",
            "  )\n",
            ")\n",
            "torch.Size([32, 10])\n",
            "==============================\n",
            " Data Augmentation 적용하지 않은 상태로 AlexNet 학습\n",
            "==============================\n",
            "Epoch: 1, train loss: 1.738, train accuracy: 35.7 %\n",
            "--------------------\n",
            "Epoch: 2, train loss: 1.475, train accuracy: 46.3 %\n",
            "--------------------\n",
            "Epoch: 3, train loss: 1.38, train accuracy: 50.3 %\n",
            "--------------------\n",
            "Epoch: 4, train loss: 1.322, train accuracy: 52.6 %\n",
            "--------------------\n",
            "Epoch: 5, train loss: 1.281, train accuracy: 54.2 %\n",
            "--------------------\n",
            "Epoch: 6, train loss: 1.25, train accuracy: 55.4 %\n",
            "--------------------\n",
            "Epoch: 7, train loss: 1.208, train accuracy: 57.0 %\n",
            "--------------------\n",
            "Epoch: 8, train loss: 1.188, train accuracy: 58.0 %\n",
            "--------------------\n",
            "Epoch: 9, train loss: 1.162, train accuracy: 58.8 %\n",
            "--------------------\n",
            "Epoch: 10, train loss: 1.139, train accuracy: 59.7 %\n",
            "--------------------\n",
            "Epoch: 11, train loss: 1.126, train accuracy: 60.2 %\n",
            "--------------------\n",
            "Epoch: 12, train loss: 1.103, train accuracy: 61.2 %\n",
            "--------------------\n",
            "Epoch: 13, train loss: 1.077, train accuracy: 61.9 %\n",
            "--------------------\n",
            "Epoch: 14, train loss: 1.059, train accuracy: 62.7 %\n",
            "--------------------\n",
            "Epoch: 15, train loss: 1.036, train accuracy: 63.5 %\n",
            "--------------------\n",
            "Epoch: 16, train loss: 1.025, train accuracy: 64.0 %\n",
            "--------------------\n",
            "Epoch: 17, train loss: 0.991, train accuracy: 65.0 %\n",
            "--------------------\n",
            "Epoch: 18, train loss: 0.982, train accuracy: 65.7 %\n",
            "--------------------\n",
            "Epoch: 19, train loss: 0.953, train accuracy: 66.5 %\n",
            "--------------------\n",
            "Epoch: 20, train loss: 0.941, train accuracy: 67.1 %\n",
            "--------------------\n",
            "Epoch: 21, train loss: 0.923, train accuracy: 68.0 %\n",
            "--------------------\n",
            "Epoch: 22, train loss: 0.902, train accuracy: 68.7 %\n",
            "--------------------\n",
            "Epoch: 23, train loss: 0.898, train accuracy: 68.9 %\n",
            "--------------------\n",
            "Epoch: 24, train loss: 0.862, train accuracy: 70.1 %\n",
            "--------------------\n",
            "Epoch: 25, train loss: 0.843, train accuracy: 70.9 %\n",
            "--------------------\n",
            "Epoch: 26, train loss: 0.834, train accuracy: 71.3 %\n",
            "--------------------\n",
            "Epoch: 27, train loss: 0.807, train accuracy: 72.0 %\n",
            "--------------------\n",
            "Epoch: 28, train loss: 0.813, train accuracy: 72.0 %\n",
            "--------------------\n",
            "Epoch: 29, train loss: 0.763, train accuracy: 73.8 %\n",
            "--------------------\n",
            "Epoch: 30, train loss: 0.904, train accuracy: 69.5 %\n",
            "--------------------\n",
            "Epoch: 31, train loss: 0.765, train accuracy: 73.9 %\n",
            "--------------------\n",
            "Epoch: 32, train loss: 0.716, train accuracy: 75.5 %\n",
            "--------------------\n",
            "Epoch: 33, train loss: 0.751, train accuracy: 74.4 %\n",
            "--------------------\n",
            "Epoch: 34, train loss: 0.688, train accuracy: 76.6 %\n",
            "--------------------\n",
            "Epoch: 35, train loss: 0.683, train accuracy: 76.8 %\n",
            "--------------------\n",
            "Epoch: 36, train loss: 0.657, train accuracy: 77.8 %\n",
            "--------------------\n",
            "Epoch: 37, train loss: 0.648, train accuracy: 78.2 %\n",
            "--------------------\n",
            "Epoch: 38, train loss: 0.632, train accuracy: 79.0 %\n",
            "--------------------\n",
            "Epoch: 39, train loss: 0.614, train accuracy: 79.3 %\n",
            "--------------------\n",
            "Epoch: 40, train loss: 0.598, train accuracy: 79.9 %\n",
            "--------------------\n",
            "Epoch: 41, train loss: 0.6, train accuracy: 80.0 %\n",
            "--------------------\n",
            "Epoch: 42, train loss: 0.578, train accuracy: 80.6 %\n",
            "--------------------\n",
            "Epoch: 43, train loss: 0.556, train accuracy: 81.6 %\n",
            "--------------------\n",
            "Epoch: 44, train loss: 0.598, train accuracy: 80.2 %\n",
            "--------------------\n",
            "Epoch: 45, train loss: 0.529, train accuracy: 82.4 %\n",
            "--------------------\n",
            "Epoch: 46, train loss: 0.541, train accuracy: 82.2 %\n",
            "--------------------\n",
            "Epoch: 47, train loss: 0.589, train accuracy: 80.8 %\n",
            "--------------------\n",
            "Epoch: 48, train loss: 0.521, train accuracy: 82.7 %\n",
            "--------------------\n",
            "Epoch: 49, train loss: 0.497, train accuracy: 83.8 %\n",
            "--------------------\n",
            "Epoch: 50, train loss: 0.485, train accuracy: 83.9 %\n",
            "--------------------\n"
          ]
        }
      ]
    },
    {
      "cell_type": "code",
      "source": [
        "print(\"=\"*30)\n",
        "print(\"Data Augmentation 적용하지 않은 AlexNet 테스트\")\n",
        "print(\"=\"*30)\n",
        "# Test 함수로 평가\n",
        "test_accuracy_no_aug = Test(model_no_aug, test_DL)"
      ],
      "metadata": {
        "colab": {
          "base_uri": "https://localhost:8080/"
        },
        "id": "0BG1rt4NZu7Y",
        "outputId": "cfd36e61-a450-4479-ff19-018d658777b7"
      },
      "execution_count": 12,
      "outputs": [
        {
          "output_type": "stream",
          "name": "stdout",
          "text": [
            "==============================\n",
            "Data Augmentation 적용하지 않은 AlexNet 테스트\n",
            "==============================\n",
            "Test accuracy: 6843/10000 (68.4 %)\n"
          ]
        }
      ]
    },
    {
      "cell_type": "code",
      "source": [
        "model_aug=AlexNet().to(DEVICE)\n",
        "print(model_aug)\n",
        "x_batch, _ = next(iter(train_DL_augmented))\n",
        "print(model_aug(x_batch.to(DEVICE)).shape)\n",
        "\n",
        "print(\"=\"*30)\n",
        "print(\"실험 1: Data Augmentation 적용한 상태로 AlexNet 학습\")\n",
        "print(\"=\"*30)\n",
        "\n",
        "loss_history_aug, acc_history_aug = Train(model_aug, train_DL_augmented, criterion)"
      ],
      "metadata": {
        "colab": {
          "base_uri": "https://localhost:8080/"
        },
        "id": "iSb17ubxaP6t",
        "outputId": "a8663688-dbc8-4056-c0a6-4809a99e3e63"
      },
      "execution_count": 13,
      "outputs": [
        {
          "output_type": "stream",
          "name": "stdout",
          "text": [
            "AlexNet(\n",
            "  (features): Sequential(\n",
            "    (0): Conv2d(3, 64, kernel_size=(11, 11), stride=(4, 4), padding=(2, 2))\n",
            "    (1): ReLU(inplace=True)\n",
            "    (2): MaxPool2d(kernel_size=3, stride=2, padding=0, dilation=1, ceil_mode=False)\n",
            "    (3): Conv2d(64, 192, kernel_size=(5, 5), stride=(1, 1), padding=(2, 2))\n",
            "    (4): ReLU(inplace=True)\n",
            "    (5): MaxPool2d(kernel_size=3, stride=2, padding=0, dilation=1, ceil_mode=False)\n",
            "    (6): Conv2d(192, 384, kernel_size=(3, 3), stride=(1, 1), padding=(1, 1))\n",
            "    (7): ReLU(inplace=True)\n",
            "    (8): Conv2d(384, 256, kernel_size=(3, 3), stride=(1, 1), padding=(1, 1))\n",
            "    (9): ReLU(inplace=True)\n",
            "    (10): Conv2d(256, 256, kernel_size=(3, 3), stride=(1, 1), padding=(1, 1))\n",
            "    (11): ReLU(inplace=True)\n",
            "    (12): MaxPool2d(kernel_size=3, stride=2, padding=0, dilation=1, ceil_mode=False)\n",
            "  )\n",
            "  (avgpool): AdaptiveAvgPool2d(output_size=(6, 6))\n",
            "  (classifier): Sequential(\n",
            "    (0): Dropout(p=0.5, inplace=False)\n",
            "    (1): Linear(in_features=9216, out_features=4096, bias=True)\n",
            "    (2): ReLU(inplace=True)\n",
            "    (3): Dropout(p=0.5, inplace=False)\n",
            "    (4): Linear(in_features=4096, out_features=4096, bias=True)\n",
            "    (5): ReLU(inplace=True)\n",
            "    (6): Linear(in_features=4096, out_features=10, bias=True)\n",
            "  )\n",
            ")\n",
            "torch.Size([32, 10])\n",
            "==============================\n",
            "실험 1: Data Augmentation 적용한 상태로 AlexNet 학습\n",
            "==============================\n",
            "Epoch: 1, train loss: 1.854, train accuracy: 30.2 %\n",
            "--------------------\n",
            "Epoch: 2, train loss: 1.625, train accuracy: 39.7 %\n",
            "--------------------\n",
            "Epoch: 3, train loss: 1.556, train accuracy: 42.4 %\n",
            "--------------------\n",
            "Epoch: 4, train loss: 1.503, train accuracy: 45.1 %\n",
            "--------------------\n",
            "Epoch: 5, train loss: 1.463, train accuracy: 46.6 %\n",
            "--------------------\n",
            "Epoch: 6, train loss: 1.438, train accuracy: 48.1 %\n",
            "--------------------\n",
            "Epoch: 7, train loss: 1.415, train accuracy: 49.1 %\n",
            "--------------------\n",
            "Epoch: 8, train loss: 1.387, train accuracy: 50.0 %\n",
            "--------------------\n",
            "Epoch: 9, train loss: 1.371, train accuracy: 50.8 %\n",
            "--------------------\n",
            "Epoch: 10, train loss: 1.356, train accuracy: 51.4 %\n",
            "--------------------\n",
            "Epoch: 11, train loss: 1.341, train accuracy: 52.1 %\n",
            "--------------------\n",
            "Epoch: 12, train loss: 1.318, train accuracy: 53.0 %\n",
            "--------------------\n",
            "Epoch: 13, train loss: 1.299, train accuracy: 53.6 %\n",
            "--------------------\n",
            "Epoch: 14, train loss: 1.294, train accuracy: 54.1 %\n",
            "--------------------\n",
            "Epoch: 15, train loss: 1.29, train accuracy: 54.2 %\n",
            "--------------------\n",
            "Epoch: 16, train loss: 1.265, train accuracy: 55.1 %\n",
            "--------------------\n",
            "Epoch: 17, train loss: 1.254, train accuracy: 55.7 %\n",
            "--------------------\n",
            "Epoch: 18, train loss: 1.25, train accuracy: 55.8 %\n",
            "--------------------\n",
            "Epoch: 19, train loss: 1.234, train accuracy: 56.2 %\n",
            "--------------------\n",
            "Epoch: 20, train loss: 1.217, train accuracy: 56.9 %\n",
            "--------------------\n",
            "Epoch: 21, train loss: 1.219, train accuracy: 57.2 %\n",
            "--------------------\n",
            "Epoch: 22, train loss: 1.195, train accuracy: 57.8 %\n",
            "--------------------\n",
            "Epoch: 23, train loss: 1.202, train accuracy: 57.9 %\n",
            "--------------------\n",
            "Epoch: 24, train loss: 1.193, train accuracy: 58.1 %\n",
            "--------------------\n",
            "Epoch: 25, train loss: 1.198, train accuracy: 58.1 %\n",
            "--------------------\n",
            "Epoch: 26, train loss: 1.182, train accuracy: 58.7 %\n",
            "--------------------\n",
            "Epoch: 27, train loss: 1.17, train accuracy: 59.0 %\n",
            "--------------------\n",
            "Epoch: 28, train loss: 1.168, train accuracy: 59.1 %\n",
            "--------------------\n",
            "Epoch: 29, train loss: 1.17, train accuracy: 59.2 %\n",
            "--------------------\n",
            "Epoch: 30, train loss: 1.182, train accuracy: 58.9 %\n",
            "--------------------\n",
            "Epoch: 31, train loss: 1.156, train accuracy: 59.7 %\n",
            "--------------------\n",
            "Epoch: 32, train loss: 1.14, train accuracy: 60.2 %\n",
            "--------------------\n",
            "Epoch: 33, train loss: 1.177, train accuracy: 59.3 %\n",
            "--------------------\n",
            "Epoch: 34, train loss: 1.18, train accuracy: 59.4 %\n",
            "--------------------\n",
            "Epoch: 35, train loss: 1.199, train accuracy: 58.5 %\n",
            "--------------------\n",
            "Epoch: 36, train loss: 1.169, train accuracy: 59.5 %\n",
            "--------------------\n",
            "Epoch: 37, train loss: 1.141, train accuracy: 60.2 %\n",
            "--------------------\n",
            "Epoch: 38, train loss: 1.133, train accuracy: 60.7 %\n",
            "--------------------\n",
            "Epoch: 39, train loss: 1.131, train accuracy: 60.9 %\n",
            "--------------------\n",
            "Epoch: 40, train loss: 1.132, train accuracy: 60.9 %\n",
            "--------------------\n",
            "Epoch: 41, train loss: 1.207, train accuracy: 58.2 %\n",
            "--------------------\n",
            "Epoch: 42, train loss: 1.163, train accuracy: 60.0 %\n",
            "--------------------\n",
            "Epoch: 43, train loss: 1.211, train accuracy: 59.6 %\n",
            "--------------------\n",
            "Epoch: 44, train loss: 1.133, train accuracy: 61.0 %\n",
            "--------------------\n",
            "Epoch: 45, train loss: 1.179, train accuracy: 59.5 %\n",
            "--------------------\n",
            "Epoch: 46, train loss: 1.117, train accuracy: 61.6 %\n",
            "--------------------\n",
            "Epoch: 47, train loss: 1.151, train accuracy: 60.4 %\n",
            "--------------------\n",
            "Epoch: 48, train loss: 1.117, train accuracy: 61.5 %\n",
            "--------------------\n",
            "Epoch: 49, train loss: 1.125, train accuracy: 61.3 %\n",
            "--------------------\n",
            "Epoch: 50, train loss: 1.118, train accuracy: 61.6 %\n",
            "--------------------\n"
          ]
        }
      ]
    },
    {
      "cell_type": "code",
      "source": [
        "print(\"=\"*30)\n",
        "print(\"Data Augmentation 적용한 AlexNet 테스트\")\n",
        "print(\"=\"*30)\n",
        "# Test 함수로 평가\n",
        "test_accuracy_aug = Test(model_aug, test_DL)"
      ],
      "metadata": {
        "colab": {
          "base_uri": "https://localhost:8080/"
        },
        "id": "JXUyFKBHaWG1",
        "outputId": "7f3ef0ed-d6bc-4bb4-d92b-efc71addd807"
      },
      "execution_count": 14,
      "outputs": [
        {
          "output_type": "stream",
          "name": "stdout",
          "text": [
            "==============================\n",
            "Data Augmentation 적용한 AlexNet 테스트\n",
            "==============================\n",
            "Test accuracy: 6806/10000 (68.1 %)\n"
          ]
        }
      ]
    },
    {
      "cell_type": "code",
      "source": [
        "# 에폭 범위 (X축으로 사용)\n",
        "epochs_range = range(1, EPOCH + 1)\n",
        "\n",
        "# 전체 그림(figure)의 크기를 설정합니다. (플롯 2개용으로 너비 조정)\n",
        "plt.figure(figsize=(15, 6)) # 이전보다 너비를 약간 줄여도 괜찮습니다.\n",
        "\n",
        "# 1. 학습 정확도(Training Accuracy) 비교\n",
        "plt.subplot(1, 2, 1) # 1행 2열의 첫 번째 플롯\n",
        "plt.plot(epochs_range, acc_history_no_aug, marker='o', linestyle='-', label='No Augmentation - Train Accuracy')\n",
        "plt.plot(epochs_range, acc_history_aug, marker='x', linestyle='--', label='With Augmentation - Train Accuracy')\n",
        "plt.title('AlexNet Training Accuracy Comparison', fontsize=14)\n",
        "plt.xlabel('Epoch', fontsize=12)\n",
        "plt.ylabel('Accuracy (%)', fontsize=12)\n",
        "plt.legend(fontsize=10)\n",
        "plt.grid(True)\n",
        "\n",
        "# 2. 최종 테스트 정확도(Final Test Accuracy) 비교 (막대 그래프)\n",
        "plt.subplot(1, 2, 2) # 1행 2열의 두 번째 플롯\n",
        "labels = ['No Augmentation', 'With Augmentation']\n",
        "test_accuracies = [test_accuracy_no_aug, test_accuracy_aug]\n",
        "\n",
        "bars = plt.bar(labels, test_accuracies, color=['skyblue', 'lightcoral'], width=0.5)\n",
        "plt.title('AlexNet Test Accuracy Comparison', fontsize=14)\n",
        "plt.ylabel('Accuracy (%)', fontsize=12)\n",
        "plt.ylim(0, 100) # Y축 범위를 0에서 100으로 설정 (정확도는 백분율)\n",
        "\n",
        "# 각 막대 위에 정확도 값을 표시합니다.\n",
        "for bar in bars:\n",
        "    yval = bar.get_height()\n",
        "    plt.text(bar.get_x() + bar.get_width()/2.0, yval + 1.0, f'{yval:.1f}%', ha='center', va='bottom', fontsize=10)\n",
        "\n",
        "# 플롯들이 겹치지 않도록 레이아웃을 조정합니다.\n",
        "plt.tight_layout()\n",
        "# 플롯을 화면에 표시합니다.\n",
        "plt.show()"
      ],
      "metadata": {
        "colab": {
          "base_uri": "https://localhost:8080/",
          "height": 577
        },
        "id": "LldFHEHUeSck",
        "outputId": "e53203d9-e487-45ad-8068-634fcd75ce52"
      },
      "execution_count": 15,
      "outputs": [
        {
          "output_type": "display_data",
          "data": {
            "text/plain": [
              "<Figure size 1500x600 with 2 Axes>"
            ],
            "image/png": "[encoded data removed]"
          },
          "metadata": {}
        }
      ]
    },
    {
      "cell_type": "markdown",
      "source": [
        "**실험 2:** 3x3 Convolution 3번 vs 7x7 Convolution 1번 (in VGG16)    "
      ],
      "metadata": {
        "id": "El8m4drQlAmi"
      }
    },
    {
      "cell_type": "code",
      "source": [
        "class VGG16(nn.Module):\n",
        "    def __init__(self, num_classes=10):\n",
        "        super(VGG16, self).__init__()\n",
        "\n",
        "        self.features = nn.Sequential(\n",
        "            # Block 1\n",
        "            nn.Conv2d(3, 64, kernel_size=3, padding=1),\n",
        "            nn.ReLU(inplace=True),\n",
        "            nn.Conv2d(64, 64, kernel_size=3, padding=1),\n",
        "            nn.ReLU(inplace=True),\n",
        "            nn.MaxPool2d(kernel_size=2, stride=2), # 224 -> 112\n",
        "\n",
        "            # Block 2\n",
        "            nn.Conv2d(64, 128, kernel_size=3, padding=1),\n",
        "            nn.ReLU(inplace=True),\n",
        "            nn.Conv2d(128, 128, kernel_size=3, padding=1),\n",
        "            nn.ReLU(inplace=True),\n",
        "            nn.MaxPool2d(kernel_size=2, stride=2), # 112 -> 56\n",
        "\n",
        "            # Block 3\n",
        "            nn.Conv2d(128, 256, kernel_size=3, padding=1),\n",
        "            nn.ReLU(inplace=True),\n",
        "            nn.Conv2d(256, 256, kernel_size=3, padding=1),\n",
        "            nn.ReLU(inplace=True),\n",
        "            nn.Conv2d(256, 256, kernel_size=3, padding=1),\n",
        "            nn.ReLU(inplace=True),\n",
        "            nn.MaxPool2d(kernel_size=2, stride=2), # 56 -> 28\n",
        "\n",
        "            # Block 4\n",
        "            nn.Conv2d(256, 512, kernel_size=3, padding=1),\n",
        "            nn.ReLU(inplace=True),\n",
        "            nn.Conv2d(512, 512, kernel_size=3, padding=1),\n",
        "            nn.ReLU(inplace=True),\n",
        "            nn.Conv2d(512, 512, kernel_size=3, padding=1),\n",
        "            nn.ReLU(inplace=True),\n",
        "            nn.MaxPool2d(kernel_size=2, stride=2), # 28 -> 14\n",
        "\n",
        "            # Block 5\n",
        "            nn.Conv2d(512, 512, kernel_size=3, padding=1),\n",
        "            nn.ReLU(inplace=True),\n",
        "            nn.Conv2d(512, 512, kernel_size=3, padding=1),\n",
        "            nn.ReLU(inplace=True),\n",
        "            nn.Conv2d(512, 512, kernel_size=3, padding=1),\n",
        "            nn.ReLU(inplace=True),\n",
        "            nn.MaxPool2d(kernel_size=2, stride=2)  # 14 -> 7\n",
        "        )\n",
        "\n",
        "        self.avgpool = nn.AdaptiveAvgPool2d((7, 7))\n",
        "\n",
        "        self.classifier = nn.Sequential(\n",
        "            nn.Linear(512 * 7 * 7, 4096), # Block 5의 마지막 Conv2d 출력 채널은 512\n",
        "            nn.ReLU(inplace=True),\n",
        "            nn.Dropout(p=0.5),\n",
        "            nn.Linear(4096, 4096),\n",
        "            nn.ReLU(inplace=True),\n",
        "            nn.Dropout(p=0.5),\n",
        "            nn.Linear(4096, num_classes),\n",
        "        )\n",
        "\n",
        "    def forward(self, x):\n",
        "        x = self.features(x)\n",
        "        x = self.avgpool(x)\n",
        "        x = torch.flatten(x, 1)\n",
        "        x = self.classifier(x)\n",
        "        return x"
      ],
      "metadata": {
        "id": "sKb5yTUSk_YE"
      },
      "execution_count": null,
      "outputs": []
    },
    {
      "cell_type": "code",
      "source": [
        "class VGG16_7x7(nn.Module):\n",
        "    def __init__(self, num_classes=10):\n",
        "        super(VGG16_7x7, self).__init__()\n",
        "\n",
        "        self.features = nn.Sequential(\n",
        "            # Block 1\n",
        "            nn.Conv2d(3, 64, kernel_size=3, padding=1),\n",
        "            nn.ReLU(inplace=True),\n",
        "            nn.Conv2d(64, 64, kernel_size=3, padding=1),\n",
        "            nn.ReLU(inplace=True),\n",
        "            nn.MaxPool2d(kernel_size=2, stride=2), # 224 -> 112\n",
        "\n",
        "            # Block 2\n",
        "            nn.Conv2d(64, 128, kernel_size=3, padding=1),\n",
        "            nn.ReLU(inplace=True),\n",
        "            nn.Conv2d(128, 128, kernel_size=3, padding=1),\n",
        "            nn.ReLU(inplace=True),\n",
        "            nn.MaxPool2d(kernel_size=2, stride=2), # 112 -> 56\n",
        "\n",
        "            # Block 3\n",
        "            nn.Conv2d(128, 256, kernel_size=7, padding=3), # 원본 VGG 16과 다르게, 7x7 conv 1번으로 변경\n",
        "            nn.ReLU(inplace=True),\n",
        "            nn.MaxPool2d(kernel_size=2, stride=2), # 56 -> 28\n",
        "\n",
        "            # Block 4\n",
        "            nn.Conv2d(256, 512, kernel_size=7, padding=3), # 원본 VGG 16과 다르게, 7x7 conv 1번으로 변경\n",
        "            nn.ReLU(inplace=True),\n",
        "            nn.MaxPool2d(kernel_size=2, stride=2), # 56 -> 28\n",
        "\n",
        "            # Block 5\n",
        "            nn.Conv2d(512, 512, kernel_size=7, padding=3), # 원본 VGG 16과 다르게, 7x7 conv 1번으로 변경\n",
        "            nn.ReLU(inplace=True),\n",
        "            nn.MaxPool2d(kernel_size=2, stride=2), # 56 -> 28\n",
        "        )\n",
        "\n",
        "        self.avgpool = nn.AdaptiveAvgPool2d((7, 7))\n",
        "\n",
        "        self.classifier = nn.Sequential(\n",
        "            nn.Linear(512 * 7 * 7, 4096), # Block 5의 마지막 Conv2d 출력 채널은 512\n",
        "            nn.ReLU(inplace=True),\n",
        "            nn.Dropout(p=0.5),\n",
        "            nn.Linear(4096, 4096),\n",
        "            nn.ReLU(inplace=True),\n",
        "            nn.Dropout(p=0.5),\n",
        "            nn.Linear(4096, num_classes),\n",
        "        )\n",
        "\n",
        "    def forward(self, x):\n",
        "        x = self.features(x)\n",
        "        x = self.avgpool(x)\n",
        "        x = torch.flatten(x, 1)\n",
        "        x = self.classifier(x)\n",
        "        return x"
      ],
      "metadata": {
        "id": "ye6nSzsFpq7F"
      },
      "execution_count": null,
      "outputs": []
    },
    {
      "cell_type": "code",
      "source": [
        "import time\n",
        "\n",
        "print(\"=\"*30)\n",
        "print(\"표준 VGG16 모델 학습 (3x3 Convolution만 이용)\")\n",
        "print(\"=\"*30)\n",
        "\n",
        "model_vgg16_3x3 = VGG16().to(DEVICE) # 이전에 정의한 표준 VGG16 클래스\n",
        "print(model_vgg16_3x3)\n",
        "\n",
        "# 1. 파라미터 수 계산\n",
        "total_params_3x3 = sum(p.numel() for p in model_vgg16_3x3.parameters() if p.requires_grad)\n",
        "print(f\"\\n표준 VGG16 파라미터 수: {total_params_3x3:,}\")\n",
        "\n",
        "# 2. 학습 연산 시간 측정\n",
        "print(f\"\\n\\n학습 시작\")\n",
        "start_time_3x3 = time.time()\n",
        "loss_history_3x3, acc_history_3x3 = Train(model_vgg16_3x3, train_DL, criterion)\n",
        "end_time_3x3 = time.time()\n",
        "training_time_3x3 = end_time_3x3 - start_time_3x3\n",
        "print(f\"\\nVGG16_3x3 총 학습 시간: {training_time_3x3:.2f} 초\")\n",
        "\n",
        "# 3. 분류 성능 평가\n",
        "print(\"\\nVGG16_3x3 테스트\")\n",
        "test_accuracy_3x3 = Test(model_vgg16_3x3, test_DL)\n"
      ],
      "metadata": {
        "id": "3UYkqlNPtBiH"
      },
      "execution_count": null,
      "outputs": []
    },
    {
      "cell_type": "code",
      "source": [
        "print(\"=\"*30)\n",
        "print(\"7*7 Convolution으로 Custom한 VGG16 모델 학습 (3,4,5번째 블록만 변경)\")\n",
        "print(\"=\"*30)\n",
        "\n",
        "model_vgg16_7x7 = VGG16_7x7().to(DEVICE) # 이전에 정의한 표준 VGG16 클래스\n",
        "print(model_vgg16_7x7)\n",
        "\n",
        "# 1. 파라미터 수 계산\n",
        "total_params_7x7 = sum(p.numel() for p in model_vgg16_7x7.parameters() if p.requires_grad)\n",
        "print(f\"\\n표준 VGG16 파라미터 수: {total_params_7x7:,}\")\n",
        "\n",
        "# 2. 학습 연산 시간 측정\n",
        "print(f\"\\n\\n학습 시작\")\n",
        "start_time_7x7 = time.time()\n",
        "loss_history_7x7, acc_history_7x7 = Train(model_vgg16_7x7, train_DL, criterion)\n",
        "end_time_7x7 = time.time()\n",
        "training_time_7x7 = end_time_7x7 - start_time_7x7\n",
        "print(f\"\\nVGG16_7x7 총 학습 시간: {training_time_7x7:.2f} 초\")\n",
        "\n",
        "# 3. 분류 성능 평가\n",
        "print(\"\\nVGG16_7x7 테스트\")\n",
        "test_accuracy_7x7 = Test(model_vgg16_7x7, test_DL)"
      ],
      "metadata": {
        "id": "ihXWAyAzvQHo"
      },
      "execution_count": null,
      "outputs": []
    }
  ]
}